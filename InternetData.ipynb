{
 "cells": [
  {
   "cell_type": "markdown",
   "metadata": {},
   "source": [
    "## Internet data"
   ]
  },
  {
   "cell_type": "markdown",
   "metadata": {},
   "source": [
    "Для скачивания HTML-страниц в питоне есть специальный модуль `urllib.request`. У него есть альтернативы: https://stackoverflow.com/questions/7191337/python-better-network-api-than-urllib\n",
    "\n",
    "На самом деле, когда мы хотим открыть какую-то страницу в интернете, наш браузер отправляет на сервер запрос (\"Привет, сервер! я хочу код страницы по вот такому адресу!\"), а сервер затем отправляет ответ (\"Привет! Вот код страницы: ...\"). Чтобы получить страницу через питон, нужно сформировать запрос на сервер так же, как это делает браузер:"
   ]
  },
  {
   "cell_type": "code",
   "execution_count": 18,
   "metadata": {},
   "outputs": [],
   "source": [
    "import urllib.request #importing module\n",
    "import re\n",
    "req = urllib.request.Request('https://habr.com/')\n",
    "with urllib.request.urlopen(req) as response:\n",
    "   html = response.read().decode('utf-8')"
   ]
  },
  {
   "cell_type": "markdown",
   "metadata": {},
   "source": [
    "В переменной `req` у нас как раз находится запрос. Функция `urlopen` получает ответ сервера и скачивает страницу по ссылке https://habr.com/ в переменную `response`. `response` ведет себя как файл: например мы можем прочитать его содержимое с помощью `.read()` в другую переменную. Вот так просто мы сохранили код страницы в переменной `html`. Убедимся, что в там лежит html-код:"
   ]
  },
  {
   "cell_type": "code",
   "execution_count": 19,
   "metadata": {},
   "outputs": [
    {
     "name": "stdout",
     "output_type": "stream",
     "text": [
      "<!DOCTYPE html>\n",
      "<html lang=\"ru\" class=\"no-js\">\n",
      "  <head>\n",
      "    <meta http-equiv=\"content-type\" content=\"text/html; charset=utf-8\" />\n",
      "<meta content='width=1024' name='viewport'>\n",
      "<title>Лучшие публикации за сутки / \n"
     ]
    }
   ],
   "source": [
    "print(html[:210])"
   ]
  },
  {
   "cell_type": "markdown",
   "metadata": {},
   "source": [
    "Иногда сайт блокирует запросы, если их посылает не настоящий браузер с пользователем, а какой-то бот (например, так делает Гугл или Википедия). Иногда сайты присылают разные версии страниц, разным браузерам.\n",
    "По этим причинам полезно бывает писать скрипт, который умеет притворяться то одним, то другим браузером. Когда мы пытаемся получить страницу с помощью `urllib`, наш код по умолчанию честно сообщает серверу, что он является программой на питоне. Он говорит что-то вроде \"Привет, я Python-urllib/3.5\". Но можно, например, представиться Мозиллой:"
   ]
  },
  {
   "cell_type": "code",
   "execution_count": 20,
   "metadata": {},
   "outputs": [],
   "source": [
    "url = 'https://habr.com/'\n",
    "user_agent = 'Mozilla/5.0 (Windows NT 6.1; Win64; x64)' \n",
    "req = urllib.request.Request(url, headers={'User-Agent':user_agent})  \n",
    "\n",
    "with urllib.request.urlopen(req) as response:\n",
    "   html = response.read().decode('utf-8')"
   ]
  },
  {
   "cell_type": "markdown",
   "metadata": {},
   "source": [
    "Код страницы у нас уже есть, но как из него что-то вытащить. Для начала нужно посмотреть в исходник <view-source:https://habr.com/> и заметить, что заголовки хранятся в тэге **h2** с классом **post__title**. Заголовок выглядит примерно так:"
   ]
  },
  {
   "cell_type": "markdown",
   "metadata": {},
   "source": [
    "<h2 class=\"post__title\">\n",
    "    <a href=\"https://habr.com/company/google/blog/425279/\" class=\"post__title_link\">Как собеседует Google: чему быть, чего не миновать</a>\n",
    "  </h2>"
   ]
  },
  {
   "cell_type": "markdown",
   "metadata": {},
   "source": [
    "Чтобы вытащить все такие заголовки, воспользуемся регулярным выражением."
   ]
  },
  {
   "cell_type": "code",
   "execution_count": 21,
   "metadata": {},
   "outputs": [],
   "source": [
    "regPostTitle = re.compile('<h2 class=\"post__title\">.*?</h2>', flags= re.DOTALL)\n",
    "titles = regPostTitle.findall(html)"
   ]
  },
  {
   "cell_type": "markdown",
   "metadata": {},
   "source": [
    "Посмотрим, сколько там заголовков. И взглянем, например, на первые три."
   ]
  },
  {
   "cell_type": "code",
   "execution_count": 22,
   "metadata": {},
   "outputs": [
    {
     "name": "stdout",
     "output_type": "stream",
     "text": [
      "20\n"
     ]
    }
   ],
   "source": [
    "print(len(titles))"
   ]
  },
  {
   "cell_type": "code",
   "execution_count": 26,
   "metadata": {},
   "outputs": [
    {
     "name": "stdout",
     "output_type": "stream",
     "text": [
      "['<h2 class=\"post__title\">\\n    <a href=\"https://habr.com/company/badoo/blog/425325/\" class=\"post__title_link\">Интерпретаторы байт-кодов своими руками</a>\\n  </h2>', '<h2 class=\"post__title\">\\n    <a href=\"https://habr.com/company/mailru/blog/423409/\" class=\"post__title_link\">Как сделать самому Луноход</a>\\n  </h2>', '<h2 class=\"post__title\">\\n    <a href=\"https://habr.com/post/425359/\" class=\"post__title_link\">Китайцы использовали микрочип, чтобы контролировать американские компьютеры</a>\\n  </h2>']\n"
     ]
    }
   ],
   "source": [
    "print(titles[:3])"
   ]
  },
  {
   "cell_type": "markdown",
   "metadata": {},
   "source": [
    "Теперь давайте очистим заголовки от лишних переносов строк, лишних тэгов и распечатаем их подряд."
   ]
  },
  {
   "cell_type": "code",
   "execution_count": 24,
   "metadata": {},
   "outputs": [
    {
     "name": "stdout",
     "output_type": "stream",
     "text": [
      "Интерпретаторы байт-кодов своими руками\n",
      "Как сделать самому Луноход\n",
      "Китайцы использовали микрочип, чтобы контролировать американские компьютеры\n",
      "286 и сеть\n",
      "Scrum is dead\n",
      "КТРУ (Каталог товаров, работ, услуг) или смерть IT госзакупкам\n",
      "Firecore — нескучная игра на AVR\n",
      "Измерение времени с наносекундной точностью\n",
      "Что такое ZFS? И почему люди от неё без ума?\n",
      "﻿Perl 5: как в макросах ошибки прятались\n",
      "10 физических фактов, которые вы должны были узнать в школе, но, возможно, не узнали\n",
      "Бэкендеры всех стран объединились. Рассказываем, как прошел Backend United #2\n",
      "Автор книги «Ведьмак» потребовал у CD Projekt Red минимум $16 млн\n",
      "Алиса поможет разработчикам найти объекты в запросах пользователей. NER в Диалогах\n",
      "Так ли хороши джуны?\n",
      "Видео докладов с Deerploy DevOps MeetUp\n",
      "Люди-батарейки: теоретический анализ наногенераторов на базе трибоэлектрического эффекта\n",
      "Конкурс, новые курсы и фичи (осенние новости Хекслета)\n",
      "Обновление до Windows 1809 (иногда) уничтожает все файлы в профиле\n",
      "Как добавить остроты лезвию с помощью плазменной дуги?\n"
     ]
    }
   ],
   "source": [
    "new_titles = []\n",
    "regTag = re.compile('<.*?>', re.DOTALL)\n",
    "regSpace = re.compile('\\s{2,}', re.DOTALL)\n",
    "for t in titles:\n",
    "    clean_t = regSpace.sub(\"\", t)\n",
    "    clean_t = regTag.sub(\"\", clean_t)\n",
    "    new_titles.append(clean_t)\n",
    "for t in new_titles:\n",
    "    print(t)"
   ]
  },
  {
   "cell_type": "markdown",
   "metadata": {},
   "source": [
    "Ну и осталось убрать некрасивые кусочки html, а именно заменить специальные html-последовательности nbsp и rarr на стрелочку, например."
   ]
  },
  {
   "cell_type": "code",
   "execution_count": 16,
   "metadata": {},
   "outputs": [
    {
     "name": "stdout",
     "output_type": "stream",
     "text": [
      "Интерпретаторы байт-кодов своими руками\n",
      "Как сделать самому Луноход\n",
      "Китайцы использовали микрочип, чтобы контролировать американские компьютеры\n",
      "286 и сеть\n",
      "Scrum is dead\n",
      "КТРУ (Каталог товаров, работ, услуг) или смерть IT госзакупкам\n",
      "Firecore — нескучная игра на AVR\n",
      "Измерение времени с наносекундной точностью\n",
      "Что такое ZFS? И почему люди от неё без ума?\n",
      "﻿Perl 5: как в макросах ошибки прятались\n",
      "10 физических фактов, которые вы должны были узнать в школе, но, возможно, не узнали\n",
      "Бэкендеры всех стран объединились. Рассказываем, как прошел Backend United #2\n",
      "Автор книги «Ведьмак» потребовал у CD Projekt Red минимум $16 млн\n",
      "Алиса поможет разработчикам найти объекты в запросах пользователей. NER в Диалогах\n",
      "Так ли хороши джуны?\n",
      "Видео докладов с Deerploy DevOps MeetUp\n",
      "Люди-батарейки: теоретический анализ наногенераторов на базе трибоэлектрического эффекта\n",
      "Конкурс, новые курсы и фичи (осенние новости Хекслета)\n",
      "Обновление до Windows 1809 (иногда) уничтожает все файлы в профиле\n",
      "Как добавить остроты лезвию с помощью плазменной дуги?\n"
     ]
    }
   ],
   "source": [
    "for t in new_titles:\n",
    "    print(t.replace(\"&nbsp;&rarr;\", \" -> \"))"
   ]
  },
  {
   "cell_type": "markdown",
   "metadata": {},
   "source": [
    "+ Что такое `re.compile`?\n",
    "\n",
    "Грубо говоря, `compile()` позволяет запомнить регулярное выражение и использовать его несколько раз. Суть в том, что перед тем как прогнать регулярку через строку, питон должен ее \"скомпилировать\" - превратить строку с регулярным выражением в специальный объект.\n",
    "Строчка `re.search(..., ...)` сначала компилирует регулярное выражение, а потом выполняет поиск. Если нужно поискать что-то один раз, то такая строчка очень удобна. А если нужно поискать что-то много раз, то получится что одно и то же выражение мы компилируем много раз. А хочется один раз скомпилировать и потом много раз пользоваться. Поэтому пишут так:"
   ]
  },
  {
   "cell_type": "code",
   "execution_count": 25,
   "metadata": {},
   "outputs": [],
   "source": [
    "text = 'тут текст, внутри которого мы что-то ищем'\n",
    "regName = re.compile('тут регулярное выражение') # скомпилировали\n",
    "toSearch = regName.search(text) # теперь можно искать в тексте\n",
    "toFindAll = regName.findall(text)  # можно использовать скомпилированное выражение много раз\n",
    "toSub = regName.sub('на.что.заменить', text) # и так тоже можно использовать"
   ]
  },
  {
   "cell_type": "markdown",
   "metadata": {},
   "source": [
    "+ Что делает `regName.sub(..., ...)`?\n",
    "\n",
    "Выражение `regName.sub('на_что_заменить', text)` значит: возьми скомпилированное выражение из переменной `regName`, и замени все, что соответствует этому выражению в переменной `text`, на строку 'на\\_что\\_заменить'. Если первый аргумент в этом случае - пустая строка, то все найденные регуляркой куски заменятся на пустую строку, короче говоря, удалятся."
   ]
  },
  {
   "cell_type": "markdown",
   "metadata": {},
   "source": [
    "+ Что такое `re.DOTALL`?\n",
    "\n",
    "Обычно точка в регулярном выражении означает любой символ КРОМЕ символа новой строки. Чтобы изменить такое поведение, в компиляцию регулярки можно добавить параметры-флаги вот так: `flags = re.DOTALL`, и тогда точка будет ловить вообще любой символ, включая новую строку. Эти флаги слегка меняют поведение функции, вот и все."
   ]
  }
 ],
 "metadata": {
  "kernelspec": {
   "display_name": "Python 3",
   "language": "python",
   "name": "python3"
  },
  "language_info": {
   "codemirror_mode": {
    "name": "ipython",
    "version": 3
   },
   "file_extension": ".py",
   "mimetype": "text/x-python",
   "name": "python",
   "nbconvert_exporter": "python",
   "pygments_lexer": "ipython3",
   "version": "3.6.5"
  }
 },
 "nbformat": 4,
 "nbformat_minor": 2
}
