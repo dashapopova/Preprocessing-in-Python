{
 "cells": [
  {
   "cell_type": "code",
   "execution_count": 1,
   "metadata": {},
   "outputs": [
    {
     "name": "stdout",
     "output_type": "stream",
     "text": [
      "Температура днём: +8°\n",
      "Температура ночью: +8°\n",
      "Облачность: Дождь\n"
     ]
    }
   ],
   "source": [
    "import urllib.request\n",
    "import urllib.error\n",
    "import re\n",
    "\n",
    "\n",
    "def downloading_page():\n",
    "    user_agent = 'Mozilla/5.0 (Windows NT 6.1; Win64; x64)'\n",
    "    try:\n",
    "        req = urllib.request.Request('https://yandex.ru/pogoda/moscow/', headers={'User-Agent': user_agent})\n",
    "        with urllib.request.urlopen(req) as response:\n",
    "            html = response.read().decode('utf-8')\n",
    "            return html\n",
    "    except urllib.error.URLError as e:\n",
    "        print(e.reason)\n",
    "\n",
    "\n",
    "def temp_and_cloud(html):\n",
    "    # The part about the temperature\n",
    "    final_temp = []\n",
    "    regtemp = re.compile('Сегодня</div>.*?</a></div>', re.DOTALL)\n",
    "    temp = regtemp.findall(html)\n",
    "    regtag = re.compile('<.*?>', re.DOTALL)\n",
    "    regword = re.compile(r'[^\\x00-\\x7F\\x80-\\xFF\\u0100-\\u017F\\u0180-\\u024F\\u1E00-\\u1EFF]')  # nothing except Latin\n",
    "    regdate = re.compile(r'\\d.*?[.]', re.DOTALL)\n",
    "    # Actually, i could just slice the important part, but i practiced re.\n",
    "    for i in temp:\n",
    "        clean_temp = regtag.sub('', i)\n",
    "        clean_temp = regword.sub('', clean_temp)\n",
    "        clean_temp = regdate.sub('', clean_temp)\n",
    "        final_temp.append(clean_temp)\n",
    "\n",
    "    # \\u00b0 = ° in unicode. All this trouble with the degree sign is that it's the same as russian \"о\" for python.\n",
    "    # the part of code here finds out where to slice the info about the temperature so it fits nicely for day and night\n",
    "    # parts.\n",
    "    degree_sign1 = '\\u00b0\\+'\n",
    "    degree1 = re.search(degree_sign1, str(final_temp))\n",
    "    degree1 = str(degree1)\n",
    "    # Now we need to find where re.search span ends and this number is the place to slice.\n",
    "    degree1 = re.findall(' \\d+', degree1)\n",
    "    slice_temp = int(degree1[0][1:]) - 1\n",
    "    # The first two and the last two elements are brackets of the list, which was converted to string.\n",
    "    print('Температура днём: ' + str(final_temp)[2:slice_temp] + '\\n'\n",
    "          + 'Температура ночью: ' + str(final_temp)[slice_temp:-2])\n",
    "\n",
    "    # The part about the clouds\n",
    "    final_cloud = []\n",
    "    cloud = regtemp.findall(html)\n",
    "    for i in cloud:\n",
    "        clean_cloud = regtag.sub('', i)\n",
    "        final_cloud.append(clean_cloud)\n",
    "    degree_sign2 = 'ночью.*?\\u00b0'\n",
    "    degree2 = re.search(degree_sign2, str(final_cloud))\n",
    "    degree2 = str(degree2)\n",
    "    # Now we need to find where re.search span ends and this number is the place to slice.\n",
    "    degree2 = re.findall(' \\d+', degree2)\n",
    "    slice_cloud = int(degree2[0][1:])\n",
    "    # Here the second degree symbol is found and the rest of the text after it is shown\n",
    "    print('Облачность: ' + str(final_cloud)[slice_cloud:-2])\n",
    "\n",
    "\n",
    "temp_and_cloud(downloading_page())\n"
   ]
  },
  {
   "cell_type": "code",
   "execution_count": 7,
   "metadata": {},
   "outputs": [
    {
     "name": "stdout",
     "output_type": "stream",
     "text": [
      "Восход сегодня в 06:37\n",
      "Закат сегодня в 17:57\n"
     ]
    }
   ],
   "source": [
    "def sunrise_sunset(html):\n",
    "    # Sunrise part\n",
    "    final_sunrise = []\n",
    "    regsunrise = re.compile('Восход</span>.*?</dl>', re.DOTALL)\n",
    "    sunrise = regsunrise.findall(html)\n",
    "    regtag = re.compile('<.*?>', re.DOTALL)\n",
    "    for i in sunrise:\n",
    "        clean_sunrise = regtag.sub('', i)\n",
    "        final_sunrise.append(clean_sunrise)\n",
    "        print(str(final_sunrise[0][0:6]) + ' сегодня в ' + str(final_sunrise[0][6:]))\n",
    "\n",
    "    # Sunset part\n",
    "    final_sunset = []\n",
    "    regsunset = re.compile('Закат</span>.*?</dl>', re.DOTALL)\n",
    "    sunset = regsunset.findall(html)\n",
    "    regtag = re.compile('<.*?>', re.DOTALL)\n",
    "    for i in sunset:\n",
    "        clean_sunset = regtag.sub('', i)\n",
    "        final_sunset.append(clean_sunset)\n",
    "        print(str(final_sunset[0][0:5]) + ' сегодня в ' + str(final_sunset[0][5:]))\n",
    "sunrise_sunset(downloading_page())"
   ]
  }
 ],
 "metadata": {
  "kernelspec": {
   "display_name": "Python 3",
   "language": "python",
   "name": "python3"
  },
  "language_info": {
   "codemirror_mode": {
    "name": "ipython",
    "version": 3
   },
   "file_extension": ".py",
   "mimetype": "text/x-python",
   "name": "python",
   "nbconvert_exporter": "python",
   "pygments_lexer": "ipython3",
   "version": "3.6.5"
  }
 },
 "nbformat": 4,
 "nbformat_minor": 2
}
