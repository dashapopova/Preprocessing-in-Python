{
 "cells": [
  {
   "cell_type": "code",
   "execution_count": 23,
   "metadata": {},
   "outputs": [],
   "source": [
    "import json\n",
    "from collections import Counter"
   ]
  },
  {
   "cell_type": "code",
   "execution_count": 5,
   "metadata": {},
   "outputs": [],
   "source": [
    "data = [json.loads(line) for line in open('hw_3_twitter.json', 'r')]"
   ]
  },
  {
   "cell_type": "code",
   "execution_count": 61,
   "metadata": {},
   "outputs": [
    {
     "data": {
      "text/plain": [
       "{'created_at': 'Wed Oct 03 05:00:00 +0000 2018',\n",
       " 'id': 1047350533454012417,\n",
       " 'id_str': '1047350533454012417',\n",
       " 'text': 'RT @ELISSEsifieds: Nothing can stop us from supporting you. When we say all the way, it will be indeed. Hello Elissesifieds Cebu. \\nThank yo…',\n",
       " 'source': '<a href=\"http://twitter.com/download/iphone\" rel=\"nofollow\">Twitter for iPhone</a>',\n",
       " 'truncated': False,\n",
       " 'in_reply_to_status_id': None,\n",
       " 'in_reply_to_status_id_str': None,\n",
       " 'in_reply_to_user_id': None,\n",
       " 'in_reply_to_user_id_str': None,\n",
       " 'in_reply_to_screen_name': None,\n",
       " 'user': {'id': 937522240488443905,\n",
       "  'id_str': '937522240488443905',\n",
       "  'name': \"DonnaArabe'Efieds🇸🇦\",\n",
       "  'screen_name': 'ArabiDonna',\n",
       "  'location': 'Jubail Industrial City, Kingdo',\n",
       "  'url': None,\n",
       "  'description': \"Don't think too hard,just have fun with it.\",\n",
       "  'translator_type': 'none',\n",
       "  'protected': False,\n",
       "  'verified': False,\n",
       "  'followers_count': 104,\n",
       "  'friends_count': 132,\n",
       "  'listed_count': 0,\n",
       "  'favourites_count': 8372,\n",
       "  'statuses_count': 6896,\n",
       "  'created_at': 'Mon Dec 04 03:21:35 +0000 2017',\n",
       "  'utc_offset': None,\n",
       "  'time_zone': None,\n",
       "  'geo_enabled': False,\n",
       "  'lang': 'en',\n",
       "  'contributors_enabled': False,\n",
       "  'is_translator': False,\n",
       "  'profile_background_color': 'F5F8FA',\n",
       "  'profile_background_image_url': '',\n",
       "  'profile_background_image_url_https': '',\n",
       "  'profile_background_tile': False,\n",
       "  'profile_link_color': '1DA1F2',\n",
       "  'profile_sidebar_border_color': 'C0DEED',\n",
       "  'profile_sidebar_fill_color': 'DDEEF6',\n",
       "  'profile_text_color': '333333',\n",
       "  'profile_use_background_image': True,\n",
       "  'profile_image_url': 'http://pbs.twimg.com/profile_images/1047119228942393344/Px7FPs-3_normal.jpg',\n",
       "  'profile_image_url_https': 'https://pbs.twimg.com/profile_images/1047119228942393344/Px7FPs-3_normal.jpg',\n",
       "  'profile_banner_url': 'https://pbs.twimg.com/profile_banners/937522240488443905/1538487685',\n",
       "  'default_profile': True,\n",
       "  'default_profile_image': False,\n",
       "  'following': None,\n",
       "  'follow_request_sent': None,\n",
       "  'notifications': None},\n",
       " 'geo': None,\n",
       " 'coordinates': None,\n",
       " 'place': None,\n",
       " 'contributors': None,\n",
       " 'retweeted_status': {'created_at': 'Wed Oct 03 04:56:30 +0000 2018',\n",
       "  'id': 1047349651915960322,\n",
       "  'id_str': '1047349651915960322',\n",
       "  'text': 'Nothing can stop us from supporting you. When we say all the way, it will be indeed. Hello Elissesifieds Cebu. \\nTha… https://t.co/Crn6xJlhJQ',\n",
       "  'display_text_range': [0, 140],\n",
       "  'source': '<a href=\"http://twitter.com/download/android\" rel=\"nofollow\">Twitter for Android</a>',\n",
       "  'truncated': True,\n",
       "  'in_reply_to_status_id': None,\n",
       "  'in_reply_to_status_id_str': None,\n",
       "  'in_reply_to_user_id': None,\n",
       "  'in_reply_to_user_id_str': None,\n",
       "  'in_reply_to_screen_name': None,\n",
       "  'user': {'id': 1424795701,\n",
       "   'id_str': '1424795701',\n",
       "   'name': 'ELISSEsifieds OFC',\n",
       "   'screen_name': 'ELISSEsifieds',\n",
       "   'location': 'Followed by Elisse : 08/19/13',\n",
       "   'url': 'http://Facebook.com/ELISSEsifiedOfficial',\n",
       "   'description': 'OFC Fansclub of @ElisseJoson ♡ Acknowledged and Recognized by Dreamscape .  (Be ELISSEsifieds just click the link and fill:http://bit.ly/1U8V5eR )',\n",
       "   'translator_type': 'none',\n",
       "   'protected': False,\n",
       "   'verified': False,\n",
       "   'followers_count': 14110,\n",
       "   'friends_count': 277,\n",
       "   'listed_count': 2,\n",
       "   'favourites_count': 15075,\n",
       "   'statuses_count': 42618,\n",
       "   'created_at': 'Mon May 13 06:39:55 +0000 2013',\n",
       "   'utc_offset': None,\n",
       "   'time_zone': None,\n",
       "   'geo_enabled': True,\n",
       "   'lang': 'en',\n",
       "   'contributors_enabled': False,\n",
       "   'is_translator': False,\n",
       "   'profile_background_color': 'C0DEED',\n",
       "   'profile_background_image_url': 'http://abs.twimg.com/images/themes/theme1/bg.png',\n",
       "   'profile_background_image_url_https': 'https://abs.twimg.com/images/themes/theme1/bg.png',\n",
       "   'profile_background_tile': True,\n",
       "   'profile_link_color': 'F099F0',\n",
       "   'profile_sidebar_border_color': 'FFFFFF',\n",
       "   'profile_sidebar_fill_color': 'DDEEF6',\n",
       "   'profile_text_color': '333333',\n",
       "   'profile_use_background_image': True,\n",
       "   'profile_image_url': 'http://pbs.twimg.com/profile_images/975532647349854209/glaBAm_T_normal.jpg',\n",
       "   'profile_image_url_https': 'https://pbs.twimg.com/profile_images/975532647349854209/glaBAm_T_normal.jpg',\n",
       "   'profile_banner_url': 'https://pbs.twimg.com/profile_banners/1424795701/1490279660',\n",
       "   'default_profile': False,\n",
       "   'default_profile_image': False,\n",
       "   'following': None,\n",
       "   'follow_request_sent': None,\n",
       "   'notifications': None},\n",
       "  'geo': None,\n",
       "  'coordinates': None,\n",
       "  'place': None,\n",
       "  'contributors': None,\n",
       "  'is_quote_status': False,\n",
       "  'extended_tweet': {'full_text': 'Nothing can stop us from supporting you. When we say all the way, it will be indeed. Hello Elissesifieds Cebu. \\nThank you guys, for rising so early just to visit Elisse on her last taping day sa humble place nyo💓 https://t.co/cLpJ2ifyGw',\n",
       "   'display_text_range': [0, 212],\n",
       "   'entities': {'hashtags': [],\n",
       "    'urls': [],\n",
       "    'user_mentions': [],\n",
       "    'symbols': [],\n",
       "    'media': [{'id': 1047349579832688641,\n",
       "      'id_str': '1047349579832688641',\n",
       "      'indices': [213, 236],\n",
       "      'media_url': 'http://pbs.twimg.com/media/Doju5M2VAAESKaQ.jpg',\n",
       "      'media_url_https': 'https://pbs.twimg.com/media/Doju5M2VAAESKaQ.jpg',\n",
       "      'url': 'https://t.co/cLpJ2ifyGw',\n",
       "      'display_url': 'pic.twitter.com/cLpJ2ifyGw',\n",
       "      'expanded_url': 'https://twitter.com/ELISSEsifieds/status/1047349651915960322/photo/1',\n",
       "      'type': 'photo',\n",
       "      'sizes': {'large': {'w': 720, 'h': 960, 'resize': 'fit'},\n",
       "       'thumb': {'w': 150, 'h': 150, 'resize': 'crop'},\n",
       "       'medium': {'w': 720, 'h': 960, 'resize': 'fit'},\n",
       "       'small': {'w': 510, 'h': 680, 'resize': 'fit'}}},\n",
       "     {'id': 1047349589253083136,\n",
       "      'id_str': '1047349589253083136',\n",
       "      'indices': [213, 236],\n",
       "      'media_url': 'http://pbs.twimg.com/media/Doju5v8U0AAhr9-.jpg',\n",
       "      'media_url_https': 'https://pbs.twimg.com/media/Doju5v8U0AAhr9-.jpg',\n",
       "      'url': 'https://t.co/cLpJ2ifyGw',\n",
       "      'display_url': 'pic.twitter.com/cLpJ2ifyGw',\n",
       "      'expanded_url': 'https://twitter.com/ELISSEsifieds/status/1047349651915960322/photo/1',\n",
       "      'type': 'photo',\n",
       "      'sizes': {'medium': {'w': 720, 'h': 960, 'resize': 'fit'},\n",
       "       'thumb': {'w': 150, 'h': 150, 'resize': 'crop'},\n",
       "       'large': {'w': 720, 'h': 960, 'resize': 'fit'},\n",
       "       'small': {'w': 510, 'h': 680, 'resize': 'fit'}}},\n",
       "     {'id': 1047349602142150657,\n",
       "      'id_str': '1047349602142150657',\n",
       "      'indices': [213, 236],\n",
       "      'media_url': 'http://pbs.twimg.com/media/Doju6f9UYAEfHDd.jpg',\n",
       "      'media_url_https': 'https://pbs.twimg.com/media/Doju6f9UYAEfHDd.jpg',\n",
       "      'url': 'https://t.co/cLpJ2ifyGw',\n",
       "      'display_url': 'pic.twitter.com/cLpJ2ifyGw',\n",
       "      'expanded_url': 'https://twitter.com/ELISSEsifieds/status/1047349651915960322/photo/1',\n",
       "      'type': 'photo',\n",
       "      'sizes': {'medium': {'w': 720, 'h': 960, 'resize': 'fit'},\n",
       "       'thumb': {'w': 150, 'h': 150, 'resize': 'crop'},\n",
       "       'small': {'w': 510, 'h': 680, 'resize': 'fit'},\n",
       "       'large': {'w': 720, 'h': 960, 'resize': 'fit'}}},\n",
       "     {'id': 1047349625907109889,\n",
       "      'id_str': '1047349625907109889',\n",
       "      'indices': [213, 236],\n",
       "      'media_url': 'http://pbs.twimg.com/media/Doju74fU4AEpxTQ.jpg',\n",
       "      'media_url_https': 'https://pbs.twimg.com/media/Doju74fU4AEpxTQ.jpg',\n",
       "      'url': 'https://t.co/cLpJ2ifyGw',\n",
       "      'display_url': 'pic.twitter.com/cLpJ2ifyGw',\n",
       "      'expanded_url': 'https://twitter.com/ELISSEsifieds/status/1047349651915960322/photo/1',\n",
       "      'type': 'photo',\n",
       "      'sizes': {'thumb': {'w': 150, 'h': 150, 'resize': 'crop'},\n",
       "       'medium': {'w': 720, 'h': 960, 'resize': 'fit'},\n",
       "       'small': {'w': 510, 'h': 680, 'resize': 'fit'},\n",
       "       'large': {'w': 720, 'h': 960, 'resize': 'fit'}}}]},\n",
       "   'extended_entities': {'media': [{'id': 1047349579832688641,\n",
       "      'id_str': '1047349579832688641',\n",
       "      'indices': [213, 236],\n",
       "      'media_url': 'http://pbs.twimg.com/media/Doju5M2VAAESKaQ.jpg',\n",
       "      'media_url_https': 'https://pbs.twimg.com/media/Doju5M2VAAESKaQ.jpg',\n",
       "      'url': 'https://t.co/cLpJ2ifyGw',\n",
       "      'display_url': 'pic.twitter.com/cLpJ2ifyGw',\n",
       "      'expanded_url': 'https://twitter.com/ELISSEsifieds/status/1047349651915960322/photo/1',\n",
       "      'type': 'photo',\n",
       "      'sizes': {'large': {'w': 720, 'h': 960, 'resize': 'fit'},\n",
       "       'thumb': {'w': 150, 'h': 150, 'resize': 'crop'},\n",
       "       'medium': {'w': 720, 'h': 960, 'resize': 'fit'},\n",
       "       'small': {'w': 510, 'h': 680, 'resize': 'fit'}}},\n",
       "     {'id': 1047349589253083136,\n",
       "      'id_str': '1047349589253083136',\n",
       "      'indices': [213, 236],\n",
       "      'media_url': 'http://pbs.twimg.com/media/Doju5v8U0AAhr9-.jpg',\n",
       "      'media_url_https': 'https://pbs.twimg.com/media/Doju5v8U0AAhr9-.jpg',\n",
       "      'url': 'https://t.co/cLpJ2ifyGw',\n",
       "      'display_url': 'pic.twitter.com/cLpJ2ifyGw',\n",
       "      'expanded_url': 'https://twitter.com/ELISSEsifieds/status/1047349651915960322/photo/1',\n",
       "      'type': 'photo',\n",
       "      'sizes': {'medium': {'w': 720, 'h': 960, 'resize': 'fit'},\n",
       "       'thumb': {'w': 150, 'h': 150, 'resize': 'crop'},\n",
       "       'large': {'w': 720, 'h': 960, 'resize': 'fit'},\n",
       "       'small': {'w': 510, 'h': 680, 'resize': 'fit'}}},\n",
       "     {'id': 1047349602142150657,\n",
       "      'id_str': '1047349602142150657',\n",
       "      'indices': [213, 236],\n",
       "      'media_url': 'http://pbs.twimg.com/media/Doju6f9UYAEfHDd.jpg',\n",
       "      'media_url_https': 'https://pbs.twimg.com/media/Doju6f9UYAEfHDd.jpg',\n",
       "      'url': 'https://t.co/cLpJ2ifyGw',\n",
       "      'display_url': 'pic.twitter.com/cLpJ2ifyGw',\n",
       "      'expanded_url': 'https://twitter.com/ELISSEsifieds/status/1047349651915960322/photo/1',\n",
       "      'type': 'photo',\n",
       "      'sizes': {'medium': {'w': 720, 'h': 960, 'resize': 'fit'},\n",
       "       'thumb': {'w': 150, 'h': 150, 'resize': 'crop'},\n",
       "       'small': {'w': 510, 'h': 680, 'resize': 'fit'},\n",
       "       'large': {'w': 720, 'h': 960, 'resize': 'fit'}}},\n",
       "     {'id': 1047349625907109889,\n",
       "      'id_str': '1047349625907109889',\n",
       "      'indices': [213, 236],\n",
       "      'media_url': 'http://pbs.twimg.com/media/Doju74fU4AEpxTQ.jpg',\n",
       "      'media_url_https': 'https://pbs.twimg.com/media/Doju74fU4AEpxTQ.jpg',\n",
       "      'url': 'https://t.co/cLpJ2ifyGw',\n",
       "      'display_url': 'pic.twitter.com/cLpJ2ifyGw',\n",
       "      'expanded_url': 'https://twitter.com/ELISSEsifieds/status/1047349651915960322/photo/1',\n",
       "      'type': 'photo',\n",
       "      'sizes': {'thumb': {'w': 150, 'h': 150, 'resize': 'crop'},\n",
       "       'medium': {'w': 720, 'h': 960, 'resize': 'fit'},\n",
       "       'small': {'w': 510, 'h': 680, 'resize': 'fit'},\n",
       "       'large': {'w': 720, 'h': 960, 'resize': 'fit'}}}]}},\n",
       "  'quote_count': 0,\n",
       "  'reply_count': 0,\n",
       "  'retweet_count': 3,\n",
       "  'favorite_count': 9,\n",
       "  'entities': {'hashtags': [],\n",
       "   'urls': [{'url': 'https://t.co/Crn6xJlhJQ',\n",
       "     'expanded_url': 'https://twitter.com/i/web/status/1047349651915960322',\n",
       "     'display_url': 'twitter.com/i/web/status/1…',\n",
       "     'indices': [117, 140]}],\n",
       "   'user_mentions': [],\n",
       "   'symbols': []},\n",
       "  'favorited': False,\n",
       "  'retweeted': False,\n",
       "  'possibly_sensitive': False,\n",
       "  'filter_level': 'low',\n",
       "  'lang': 'en'},\n",
       " 'is_quote_status': False,\n",
       " 'quote_count': 0,\n",
       " 'reply_count': 0,\n",
       " 'retweet_count': 0,\n",
       " 'favorite_count': 0,\n",
       " 'entities': {'hashtags': [],\n",
       "  'urls': [],\n",
       "  'user_mentions': [{'screen_name': 'ELISSEsifieds',\n",
       "    'name': 'ELISSEsifieds OFC',\n",
       "    'id': 1424795701,\n",
       "    'id_str': '1424795701',\n",
       "    'indices': [3, 17]}],\n",
       "  'symbols': []},\n",
       " 'favorited': False,\n",
       " 'retweeted': False,\n",
       " 'filter_level': 'low',\n",
       " 'lang': 'en',\n",
       " 'timestamp_ms': '1538542800664'}"
      ]
     },
     "execution_count": 61,
     "metadata": {},
     "output_type": "execute_result"
    }
   ],
   "source": [
    "data[0]"
   ]
  },
  {
   "cell_type": "code",
   "execution_count": 7,
   "metadata": {},
   "outputs": [
    {
     "data": {
      "text/plain": [
       "2556"
      ]
     },
     "execution_count": 7,
     "metadata": {},
     "output_type": "execute_result"
    }
   ],
   "source": [
    "len(data)"
   ]
  },
  {
   "cell_type": "code",
   "execution_count": 12,
   "metadata": {},
   "outputs": [
    {
     "data": {
      "text/plain": [
       "0.14162754303599373"
      ]
     },
     "execution_count": 12,
     "metadata": {},
     "output_type": "execute_result"
    }
   ],
   "source": [
    "sum('delete' in t for t in data)/len(data)"
   ]
  },
  {
   "cell_type": "code",
   "execution_count": 20,
   "metadata": {},
   "outputs": [],
   "source": [
    "langs = [t['lang'] for t in data if 'lang' in t]"
   ]
  },
  {
   "cell_type": "code",
   "execution_count": 22,
   "metadata": {},
   "outputs": [
    {
     "data": {
      "text/plain": [
       "[('en', 719),\n",
       " ('ja', 438),\n",
       " ('es', 173),\n",
       " ('ko', 149),\n",
       " ('th', 123),\n",
       " ('ar', 119),\n",
       " ('und', 117),\n",
       " ('in', 71),\n",
       " ('pt', 69),\n",
       " ('fr', 35)]"
      ]
     },
     "execution_count": 22,
     "metadata": {},
     "output_type": "execute_result"
    }
   ],
   "source": [
    "Counter(langs).most_common(10)"
   ]
  },
  {
   "cell_type": "code",
   "execution_count": 25,
   "metadata": {},
   "outputs": [],
   "source": [
    "cnt = Counter([t['user']['id'] for t in data if 'user' in t])"
   ]
  },
  {
   "cell_type": "code",
   "execution_count": 36,
   "metadata": {},
   "outputs": [
    {
     "name": "stdout",
     "output_type": "stream",
     "text": [
      "2 992084216350294016\n",
      "2 581282101\n",
      "2 2317193324\n",
      "2 978499715657445377\n",
      "2 2245928100\n",
      "2 993031040\n",
      "2 290401936\n",
      "2 3067130479\n",
      "2 849417895109156869\n",
      "2 958056194366754816\n",
      "2 1017442172495331328\n",
      "2 702487896935104513\n",
      "2 995683537197158401\n",
      "2 121016179\n",
      "2 947288315375394817\n",
      "2 2464271844\n",
      "2 1009443285176340482\n",
      "2 860202971266772992\n",
      "2 2734975298\n",
      "2 4311188534\n",
      "2 1290792062\n",
      "2 897067178754686976\n",
      "2 4179415159\n",
      "2 772081812109570048\n",
      "2 1006114081739288577\n"
     ]
    }
   ],
   "source": [
    "for key in sorted(cnt, key=cnt.get, reverse=True):\n",
    "    if cnt[key] > 1:\n",
    "        print(cnt[key], key)"
   ]
  },
  {
   "cell_type": "code",
   "execution_count": 63,
   "metadata": {},
   "outputs": [],
   "source": [
    "hashtags = []\n",
    "for t in data:\n",
    "    if 'entities' in t:\n",
    "        if 'hashtags' in t['entities'] and t['entities']['hashtags']:\n",
    "            hashtags.extend([i['text'] for i in t['entities']['hashtags']])"
   ]
  },
  {
   "cell_type": "code",
   "execution_count": 66,
   "metadata": {
    "scrolled": true
   },
   "outputs": [
    {
     "data": {
      "text/plain": [
       "[('BTS', 17),\n",
       " ('방탄소년단', 13),\n",
       " ('AMAs', 11),\n",
       " ('人気投票ガチャ', 8),\n",
       " ('태형', 7),\n",
       " ('뷔', 6),\n",
       " ('BTSinChicago', 5),\n",
       " ('BTSLoveYourselfTour', 5),\n",
       " ('오늘의방탄', 5),\n",
       " ('PledgeForSwachhBharat', 5),\n",
       " ('MPN', 5),\n",
       " ('PCAs', 4),\n",
       " ('V', 4),\n",
       " ('시카고1회차공연', 4),\n",
       " ('เป๊กผลิตโชค', 4),\n",
       " ('JIMIN', 4),\n",
       " ('running', 3),\n",
       " ('NCT', 3),\n",
       " ('지민', 3),\n",
       " ('WajahmuPlastik', 3)]"
      ]
     },
     "execution_count": 66,
     "metadata": {},
     "output_type": "execute_result"
    }
   ],
   "source": [
    "Counter(hashtags).most_common(20)"
   ]
  },
  {
   "cell_type": "code",
   "execution_count": null,
   "metadata": {},
   "outputs": [],
   "source": [
    "from string import punctuation\n"
   ]
  },
  {
   "cell_type": "code",
   "execution_count": 78,
   "metadata": {},
   "outputs": [],
   "source": [
    "texts = []\n",
    "for t in data:\n",
    "    if 'retweeted_status' in t:\n",
    "        pass\n",
    "    elif 'text' in t and t['lang'] == 'en':\n",
    "        texts.append(' '.join([w.strip(punctuation) for w in t['text'].lower().split()]))\n",
    "\n",
    "all_tweets = ' '.join(texts)\n",
    "d = Counter(all_tweets.split())"
   ]
  },
  {
   "cell_type": "code",
   "execution_count": 80,
   "metadata": {},
   "outputs": [
    {
     "data": {
      "text/plain": [
       "[('the', 125),\n",
       " ('to', 86),\n",
       " ('a', 75),\n",
       " ('i', 73),\n",
       " ('and', 64),\n",
       " ('is', 50),\n",
       " ('you', 48),\n",
       " ('of', 45),\n",
       " ('for', 42),\n",
       " ('it', 41),\n",
       " ('in', 38),\n",
       " ('that', 33),\n",
       " ('this', 31),\n",
       " ('my', 30),\n",
       " ('me', 27),\n",
       " ('be', 26),\n",
       " ('on', 26),\n",
       " ('are', 21),\n",
       " ('what', 20),\n",
       " ('so', 20),\n",
       " ('with', 20),\n",
       " ('have', 19),\n",
       " ('not', 17),\n",
       " ('more', 17),\n",
       " ('but', 17)]"
      ]
     },
     "execution_count": 80,
     "metadata": {},
     "output_type": "execute_result"
    }
   ],
   "source": [
    "d.most_common(25)"
   ]
  },
  {
   "cell_type": "code",
   "execution_count": 81,
   "metadata": {},
   "outputs": [],
   "source": [
    "d = {}\n",
    "for t in data:\n",
    "    if 'user' in t:\n",
    "        d[t['user']['name']] = t['user']['followers_count']"
   ]
  },
  {
   "cell_type": "code",
   "execution_count": 85,
   "metadata": {},
   "outputs": [
    {
     "name": "stdout",
     "output_type": "stream",
     "text": [
      "2521403 Filosofía♕\n",
      "1491309 FITNESS Magazine\n",
      "1206759 malaysiakini.com\n",
      "1137374 NYT Science\n",
      "625463 Gramática\n",
      "392472 TGRT Haber\n",
      "383698 The Sun Football ⚽\n",
      "374222 Melbourne, Australia\n",
      "318189 Roznama Express\n",
      "311319 💞 ცųཞɠɛཞცơơɠıɛ 💞\n"
     ]
    }
   ],
   "source": [
    "for key in sorted(d, key=d.get, reverse=True)[:10]:\n",
    "    print(d[key], key)"
   ]
  },
  {
   "cell_type": "code",
   "execution_count": 86,
   "metadata": {},
   "outputs": [],
   "source": [
    "import re\n",
    "\n",
    "reg = re.compile('^.*?>(.*?)<.*?$')\n",
    "\n",
    "sources = []\n",
    "for t in data:\n",
    "    if 'source' in t:\n",
    "        res = reg.findall(t['source'])\n",
    "        if res:\n",
    "            sources.extend(res)"
   ]
  },
  {
   "cell_type": "code",
   "execution_count": 89,
   "metadata": {},
   "outputs": [
    {
     "data": {
      "text/plain": [
       "[('Twitter for iPhone', 800),\n",
       " ('Twitter for Android', 695),\n",
       " ('Twitter Web Client', 140),\n",
       " ('twittbot.net', 122),\n",
       " ('Twitter Lite', 51),\n",
       " ('Twitter for iPad', 28),\n",
       " ('TweetDeck', 23),\n",
       " ('Facebook', 17),\n",
       " ('IFTTT', 14),\n",
       " ('تطبيق قرآني', 10),\n",
       " ('dlvr.it', 10),\n",
       " ('Buffer', 8),\n",
       " ('Google', 8),\n",
       " ('autotweety.net', 7),\n",
       " ('Hootsuite Inc.', 7),\n",
       " ('WordPress.com', 6),\n",
       " ('Twittascope', 6),\n",
       " ('Botbird tweets', 6),\n",
       " ('تطبيق دعـاء', 5),\n",
       " ('Zapier.com', 5)]"
      ]
     },
     "execution_count": 89,
     "metadata": {},
     "output_type": "execute_result"
    }
   ],
   "source": [
    "Counter(sources).most_common(20)"
   ]
  }
 ],
 "metadata": {
  "kernelspec": {
   "display_name": "Python 3",
   "language": "python",
   "name": "python3"
  },
  "language_info": {
   "codemirror_mode": {
    "name": "ipython",
    "version": 3
   },
   "file_extension": ".py",
   "mimetype": "text/x-python",
   "name": "python",
   "nbconvert_exporter": "python",
   "pygments_lexer": "ipython3",
   "version": "3.6.5"
  }
 },
 "nbformat": 4,
 "nbformat_minor": 2
}
