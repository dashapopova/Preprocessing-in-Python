{
 "cells": [
  {
   "cell_type": "markdown",
   "metadata": {},
   "source": [
    "### Using Mystem in Python"
   ]
  },
  {
   "cell_type": "code",
   "execution_count": null,
   "metadata": {},
   "outputs": [],
   "source": [
    "import os\n",
    "os.system(\"C:\\mystem.exe -cgid --format xml C:\\harryPotter.txt C:\\harryPotterNew.txt\")"
   ]
  },
  {
   "cell_type": "markdown",
   "metadata": {},
   "source": [
    "Let's create a couple of folders!"
   ]
  },
  {
   "cell_type": "code",
   "execution_count": 1,
   "metadata": {},
   "outputs": [],
   "source": [
    "import os\n",
    "\n",
    "if not os.path.exists('newspaper/plain/2018/9/'):\n",
    "    os.makedirs('newspaper/plain/2018/9')\n",
    "    \n",
    "if not os.path.exists('newspaper/mystem-plain/2018/9/'):\n",
    "    os.makedirs('newspaper/mystem-plain/2018/9')\n",
    "    \n",
    "if not os.path.exists('newspaper/mystem-xml/2018/9/'):\n",
    "    os.makedirs('newspaper/mystem-xml/2018/9')\n",
    "\n",
    "f = open(\"newspaper/plain/2018/9/article1.txt\", \"w\", encoding=\"utf-8\")  \n",
    "f.write('Народный артист России и Украины Александр Малинин проводит в Пензе свой выходной 18 октября.')\n",
    "f.close()"
   ]
  },
  {
   "cell_type": "markdown",
   "metadata": {},
   "source": [
    "Now, let's put the contents of *article1.txt* in the plain directory lemmatized with mystem into the file *article1.txt* in the mystem-plain directory:"
   ]
  },
  {
   "cell_type": "code",
   "execution_count": 2,
   "metadata": {},
   "outputs": [
    {
     "data": {
      "text/plain": [
       "0"
      ]
     },
     "execution_count": 2,
     "metadata": {},
     "output_type": "execute_result"
    }
   ],
   "source": [
    "os.system(\"C:\\mystem.exe -cgid newspaper/plain/2018/9/article1.txt newspaper/mystem-plain/2018/9/article1.txt\")"
   ]
  },
  {
   "cell_type": "markdown",
   "metadata": {},
   "source": [
    "Now, let's put the contents of *article1.txt* in the plain directory lemmatized with mystem and formatted in xml into the file *article1.xml* in the mystem-xml directory:"
   ]
  },
  {
   "cell_type": "code",
   "execution_count": 3,
   "metadata": {},
   "outputs": [
    {
     "data": {
      "text/plain": [
       "0"
      ]
     },
     "execution_count": 3,
     "metadata": {},
     "output_type": "execute_result"
    }
   ],
   "source": [
    "os.system(\"C:\\mystem.exe -cgid --format xml newspaper/plain/2018/9/article1.txt newspaper/mystem-xml/2018/9/article1.xml\")"
   ]
  },
  {
   "cell_type": "markdown",
   "metadata": {},
   "source": [
    "To remember what we've been doing last time, let's work with the following newspaper:"
   ]
  },
  {
   "cell_type": "code",
   "execution_count": 4,
   "metadata": {},
   "outputs": [],
   "source": [
    "import urllib.request\n",
    "url = 'https://www.pravda-news.ru/news/kultura/v-penze-tragifars-vassa-i-drugie-stal-vtoroy-premeroy-v-dramteatre/'  # адрес страницы, которую мы хотим скачать\n",
    "user_agent = 'Mozilla/5.0 (Windows NT 6.1; Win64; x64)'  # хотим притворяться браузером\n",
    "\n",
    "req = urllib.request.Request(url, headers={'User-Agent':user_agent})  \n",
    "# добавили в запрос информацию о том, что мы браузер Мозилла\n",
    "\n",
    "with urllib.request.urlopen(req) as response:\n",
    "   html = response.read().decode('utf-8')"
   ]
  },
  {
   "cell_type": "code",
   "execution_count": 5,
   "metadata": {},
   "outputs": [
    {
     "name": "stdout",
     "output_type": "stream",
     "text": [
      "['<h1>В Пензе драмтеатр представил премьеру трагифарса «Васса и другие»</h1>']\n",
      "В Пензе драмтеатр представил премьеру трагифарса «Васса и другие»\n"
     ]
    }
   ],
   "source": [
    "import re\n",
    "regPostTitle = re.compile('<h1>.*?</h1>', flags= re.DOTALL)\n",
    "titles = regPostTitle.findall(html)\n",
    "print(titles)\n",
    "new_titles = []\n",
    "regTag = re.compile('<.*?>', re.DOTALL)\n",
    "regSpace = re.compile('\\s{2,}', re.DOTALL)\n",
    "for t in titles:\n",
    "    clean_t = regSpace.sub(\"\", t)\n",
    "    clean_t = regTag.sub(\"\", clean_t)\n",
    "    new_titles.append(clean_t)\n",
    "for t in new_titles:\n",
    "    print(t)"
   ]
  },
  {
   "cell_type": "code",
   "execution_count": 6,
   "metadata": {},
   "outputs": [
    {
     "name": "stdout",
     "output_type": "stream",
     "text": [
      "['<p>Автор: <a href=\"/news/?author=Галина ИСАЙЧЕВА\" target=\"_blank\">Галина ИСАЙЧЕВА</a></p>']\n",
      " Галина ИСАЙЧЕВА\n"
     ]
    }
   ],
   "source": [
    "regPostTitleAuthor = re.compile('<p>Автор:.*?</p>', flags= re.DOTALL)\n",
    "author = regPostTitleAuthor.findall(html)\n",
    "print(author)\n",
    "new_author = []\n",
    "regTag1 = re.compile('<.*?>', re.DOTALL)\n",
    "regSpace1 = re.compile('\\s{2,}', re.DOTALL)\n",
    "regDescr1 = re.compile('Автор:', re.DOTALL)\n",
    "for a in author:\n",
    "    clean_a = regSpace1.sub(\"\", a)\n",
    "    clean_a = regTag1.sub(\"\", clean_a)\n",
    "    clean_a = regDescr1.sub(\"\", clean_a)\n",
    "    new_author.append(clean_a)\n",
    "for a in new_author:\n",
    "    print(a)"
   ]
  },
  {
   "cell_type": "code",
   "execution_count": 7,
   "metadata": {},
   "outputs": [
    {
     "name": "stdout",
     "output_type": "stream",
     "text": [
      "['<time class=\"text-danger\">18 Октября 2018, 09:45</time>\\n\\t<h1>']\n",
      "18 Октября 2018, 09:45\n"
     ]
    }
   ],
   "source": [
    "regPostTitleTime = re.compile('<time class=\"text-danger\">.*?<h1>', flags= re.DOTALL)\n",
    "time = regPostTitleTime.findall(html)\n",
    "print(time)\n",
    "new_time = []\n",
    "regTag2 = re.compile('<.*?>', re.DOTALL)\n",
    "regSpace2 = re.compile('\\s{2,}', re.DOTALL)\n",
    "for ti in time:\n",
    "    clean_ti = regSpace2.sub(\"\", ti)\n",
    "    clean_ti = regTag2.sub(\"\", clean_ti)\n",
    "    new_time.append(clean_ti)\n",
    "for ti in new_time:\n",
    "    print(ti)"
   ]
  },
  {
   "cell_type": "code",
   "execution_count": 8,
   "metadata": {},
   "outputs": [
    {
     "name": "stdout",
     "output_type": "stream",
     "text": [
      "@ti  В Пензе драмтеатр представил премьеру трагифарса «Васса и другие»\n",
      "@au  Галина ИСАЙЧЕВА\n",
      "В среду, 17 октября, на сцене пензенского драмтеатра прошла премьера трагифарса «Васса и другие» по пьесе Максима Горького «Васса Железнова». История рассказывает о событиях начала 20-го века, становления капитализма в России, о жизни семьи успешных судовладельцев. Главная героиня Васса — жесткая, холодная, бессердечная хозяйка пароходства, вся жизнь которой подчинена только интересам дела. Именно такой играет ее заслуженная артистка РФ Альбина Смелова. Для актрисы это практически звездная роль, ей удалось создать мощный образ женщины, не останавливающейся ради своих целей даже перед преступлением. Но за этой циничной маской скрывается разбитое женское сердце, давно забытое ожидание счастья и любви. И это глубоко запрятанное душевное состояние «железной» Вассы тоже удалось передать актрисе.Режиссер спектакля Ансар Халилуллин (это уже пятая его работа в нашем театре) явно сочувствует главной героине.— Но я никому не навязываю своего мнения, — отмечает постановщик. — Васса — персонаж спорный, и эта история заставляет о многом подумать. У меня не было цели самовыразиться, я, прежде всего, хотел показать общечеловеческую, семейную драму, рассказать историю выдающегося, талантливого человека, забывшего о своем личном счастье, думающего только о деле и как бы о благе семьи, но в итоге разрушающего ее. Пьеса объемная и в ней много других линий и подтекстов.История актуальная для сегодняшнего времени. Во все века независимо от обстоятельств, необходимо сохранять в себе человеческие качества.Спектакль получился очень достойный. Сделанный в классическом ключе, он смотрится на одном дыхании, не отпускает внимание зрителя ни на миг. В зале, что называется, слышно, как муха пролетает, настолько захватывает нерв сценического действия.В постановке заняты заслуженный артист РФ Сергей Казаков, Сергей Дрожжилов, Яна Дубровина, Ольга Панина, Наталья Прокошкина, Артем Давыдов, Елена Павлова и другие актеры.Спектакль поставлен на грант министерства культуры РФ и приурочен к 150-летнему юбилея Максима Горького.\n",
      "@ti  В Пензе Малинин выложил фото с Олимпийской аллеи\n",
      "@au  Артем КРАСНОВ\n",
      "Народный артист России и Украины Александр Малинин проводит в Пензе свой выходной 18 октября. Накануне, в рамках гастрольного тура «поручик Голицын» нашей эстрады пел романсы на сцене киноконцертного зала. «Всем доброе утро и хорошего дня», — пожелал певец своим подписчикам в Instagram. А днем Малинин отправился на Западную поляну, придя в восторг от местных видов.«Сегодня выдался перерыв между концертами. Прогулялся по Олимпийской аллее в городе Пенза. Прекрасная погода. Золотая осень!», — написал он, выложив ряд фото.Менее чем за час данный пост набрал более 5 тыс. лайков. «Какие чудесные фотографии, настоящее золото осени», — прокомментировала увиденное одна из поклонниц звезды.В пятницу, 19 октября, Александр Малинин споет в творческом центре «Родина» в Кузнецке. Кстати, билеты на данное мероприятие стоят дешевле, чем на романс-шоу в Пензе — от 600 до 2000 рублей. В областном центре концерт бывшего мужа Ольги Зарубиной и отца Никиты Малинина обошелся его фанатам в сумму от 1100 до 3300 рублей.\n"
     ]
    }
   ],
   "source": [
    "def download_page(pageUrl):\n",
    "    try:\n",
    "        page = urllib.request.urlopen(pageUrl)\n",
    "        text = page.read().decode('utf-8')\n",
    "        #print(text[:210])\n",
    "        regPostTitle = re.compile('<h1>.*?</h1>', flags= re.DOTALL)\n",
    "        titles = regPostTitle.findall(text)\n",
    "        #print(titles)\n",
    "        new_titles = []\n",
    "        regTag = re.compile('<.*?>', re.DOTALL)\n",
    "        regSpace = re.compile('\\s{2,}', re.DOTALL)\n",
    "        for t in titles:\n",
    "            clean_t = regSpace.sub(\"\", t)\n",
    "            clean_t = regTag.sub(\"\", clean_t)\n",
    "            new_titles.append(clean_t)\n",
    "        for t in new_titles: \n",
    "            print('@ti ', t)\n",
    "        regPostTitleAuthor = re.compile('<p>Автор:.*?</p>', flags= re.DOTALL)\n",
    "        author = regPostTitleAuthor.findall(text)\n",
    "        #print(author)\n",
    "        new_author = []\n",
    "        regTag1 = re.compile('<.*?>', re.DOTALL)\n",
    "        regSpace1 = re.compile('\\s{2,}', re.DOTALL)\n",
    "        regDescr1 = re.compile('Автор: ', re.DOTALL)\n",
    "        for a in author:\n",
    "            clean_a = regSpace1.sub(\"\", a)\n",
    "            clean_a = regTag1.sub(\"\", clean_a)\n",
    "            clean_a = regDescr1.sub(\"\", clean_a)\n",
    "            new_author.append(clean_a)\n",
    "        for a in new_author:\n",
    "            print('@au ',a)\n",
    "        regPostcontent = re.compile('</h1>.*?Автор:', flags= re.DOTALL)\n",
    "        content = regPostcontent.findall(text)\n",
    "        #print(content)\n",
    "        new_content = []\n",
    "        regTag2 = re.compile('<.*?>', re.DOTALL)\n",
    "        regSpace2 = re.compile('\\s{2,}', re.DOTALL)\n",
    "        regDescr2 = re.compile('Автор:', re.DOTALL)\n",
    "        for c in content:\n",
    "            clean_c = regSpace2.sub(\"\", c)\n",
    "            clean_c = regTag2.sub(\"\", clean_c)\n",
    "            clean_c = regDescr2.sub(\"\", clean_c)\n",
    "            new_content.append(clean_c)\n",
    "        for c in new_content:\n",
    "            print(c.replace(\"&nbsp;\", \" \"))\n",
    "    except:\n",
    "        print('Error at', pageUrl)\n",
    "    return\n",
    "\n",
    "commonUrl = 'https://www.pravda-news.ru/news/kultura/'\n",
    "st = ['v-penze-tragifars-vassa-i-drugie-stal-vtoroy-premeroy-v-dramteatre/','v-penze-malinin-vylozhil-foto-s-olimpiyskoy-allei/']\n",
    "for s in st:\n",
    "    pageUrl = commonUrl + s\n",
    "    download_page(pageUrl)\n",
    "    #print(pageUrl)"
   ]
  },
  {
   "cell_type": "code",
   "execution_count": null,
   "metadata": {},
   "outputs": [],
   "source": [
    "#commonUrl = 'http://dil.ie/'\n",
    "#for i in range(1, 10):\n",
    "    #pageUrl = commonUrl + str(i)\n",
    "    #download_page(pageUrl)"
   ]
  }
 ],
 "metadata": {
  "kernelspec": {
   "display_name": "Python 3",
   "language": "python",
   "name": "python3"
  },
  "language_info": {
   "codemirror_mode": {
    "name": "ipython",
    "version": 3
   },
   "file_extension": ".py",
   "mimetype": "text/x-python",
   "name": "python",
   "nbconvert_exporter": "python",
   "pygments_lexer": "ipython3",
   "version": "3.6.5"
  }
 },
 "nbformat": 4,
 "nbformat_minor": 2
}
