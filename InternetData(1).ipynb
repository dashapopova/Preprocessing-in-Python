{
 "cells": [
  {
   "cell_type": "markdown",
   "metadata": {},
   "source": [
    "## Internet data"
   ]
  },
  {
   "cell_type": "markdown",
   "metadata": {},
   "source": [
    "To download a page from the Internet you can use the `urllib.request` module. (Here are some alternative modules: https://stackoverflow.com/questions/7191337/python-better-network-api-than-urllib)\n",
    "\n",
    "When we try to open a webpage, our browser sends a request to the server (\"Hi server! I would like to get the code of the page with the following address!\"), and the server sends its answer (\"Hi! Here is the requested code: ...\"). To get a webpage using python, you need to formulate your request to the server:"
   ]
  },
  {
   "cell_type": "code",
   "execution_count": 18,
   "metadata": {},
   "outputs": [],
   "source": [
    "import urllib.request #importing module\n",
    "import re\n",
    "req = urllib.request.Request('https://habr.com/')\n",
    "with urllib.request.urlopen(req) as response:\n",
    "   html = response.read().decode('utf-8')"
   ]
  },
  {
   "cell_type": "markdown",
   "metadata": {},
   "source": [
    "The variable `req` contains our request. The function `urlopen` gets the answer from the server and downloads the page the has the link https://habr.com/ into the `response` variable. The `response` variable acts as a file: for example, we can read its content into a new variable with the function `.read()`. In our example we ended up saving the contents of the web page into the variable `html`. Let's make sure that we have the html-code stored in this variable:"
   ]
  },
  {
   "cell_type": "code",
   "execution_count": 19,
   "metadata": {},
   "outputs": [
    {
     "name": "stdout",
     "output_type": "stream",
     "text": [
      "<!DOCTYPE html>\n",
      "<html lang=\"ru\" class=\"no-js\">\n",
      "  <head>\n",
      "    <meta http-equiv=\"content-type\" content=\"text/html; charset=utf-8\" />\n",
      "<meta content='width=1024' name='viewport'>\n",
      "<title>Лучшие публикации за сутки / \n"
     ]
    }
   ],
   "source": [
    "print(html[:210])"
   ]
  },
  {
   "cell_type": "markdown",
   "metadata": {},
   "source": [
    "Sometimes the server blocks unfriendly (in its opinion) requests. Instead of saying to the server 'Hi! I am Python-urllib/3.5' your program can pretend to be a well-respected browser:"
   ]
  },
  {
   "cell_type": "code",
   "execution_count": 20,
   "metadata": {},
   "outputs": [],
   "source": [
    "url = 'https://habr.com/'\n",
    "user_agent = 'Mozilla/5.0 (Windows NT 6.1; Win64; x64)' \n",
    "req = urllib.request.Request(url, headers={'User-Agent':user_agent})  \n",
    "\n",
    "with urllib.request.urlopen(req) as response:\n",
    "   html = response.read().decode('utf-8')"
   ]
  },
  {
   "cell_type": "markdown",
   "metadata": {},
   "source": [
    "Imagine that we want to extract specific information from the code we've got, e.g., to extract all the article titles. We can view the source code of the page we've downloaded <view-source:https://habr.com/> and notice that the article titles are tagged **h2** with the **post__title** class. The article title looks like that:"
   ]
  },
  {
   "cell_type": "markdown",
   "metadata": {},
   "source": [
    "<h2 class=\"post__title\">\n",
    "    <a href=\"https://habr.com/company/google/blog/425279/\" class=\"post__title_link\">Как собеседует Google: чему быть, чего не миновать</a>\n",
    "  </h2>"
   ]
  },
  {
   "cell_type": "markdown",
   "metadata": {},
   "source": [
    "To extract all the article titles, let's use a regular expression."
   ]
  },
  {
   "cell_type": "code",
   "execution_count": 21,
   "metadata": {},
   "outputs": [],
   "source": [
    "regPostTitle = re.compile('<h2 class=\"post__title\">.*?</h2>', flags= re.DOTALL)\n",
    "titles = regPostTitle.findall(html)"
   ]
  },
  {
   "cell_type": "markdown",
   "metadata": {},
   "source": [
    "Let's see how many titles there are and let's print the first three titles."
   ]
  },
  {
   "cell_type": "code",
   "execution_count": 22,
   "metadata": {},
   "outputs": [
    {
     "name": "stdout",
     "output_type": "stream",
     "text": [
      "20\n"
     ]
    }
   ],
   "source": [
    "print(len(titles))"
   ]
  },
  {
   "cell_type": "code",
   "execution_count": 26,
   "metadata": {},
   "outputs": [
    {
     "name": "stdout",
     "output_type": "stream",
     "text": [
      "['<h2 class=\"post__title\">\\n    <a href=\"https://habr.com/company/badoo/blog/425325/\" class=\"post__title_link\">Интерпретаторы байт-кодов своими руками</a>\\n  </h2>', '<h2 class=\"post__title\">\\n    <a href=\"https://habr.com/company/mailru/blog/423409/\" class=\"post__title_link\">Как сделать самому Луноход</a>\\n  </h2>', '<h2 class=\"post__title\">\\n    <a href=\"https://habr.com/post/425359/\" class=\"post__title_link\">Китайцы использовали микрочип, чтобы контролировать американские компьютеры</a>\\n  </h2>']\n"
     ]
    }
   ],
   "source": [
    "print(titles[:3])"
   ]
  },
  {
   "cell_type": "markdown",
   "metadata": {},
   "source": [
    "Now let's clean the titles and delete all the line breaks and tags and print the prettified version."
   ]
  },
  {
   "cell_type": "code",
   "execution_count": 24,
   "metadata": {},
   "outputs": [
    {
     "name": "stdout",
     "output_type": "stream",
     "text": [
      "Интерпретаторы байт-кодов своими руками\n",
      "Как сделать самому Луноход\n",
      "Китайцы использовали микрочип, чтобы контролировать американские компьютеры\n",
      "286 и сеть\n",
      "Scrum is dead\n",
      "КТРУ (Каталог товаров, работ, услуг) или смерть IT госзакупкам\n",
      "Firecore — нескучная игра на AVR\n",
      "Измерение времени с наносекундной точностью\n",
      "Что такое ZFS? И почему люди от неё без ума?\n",
      "﻿Perl 5: как в макросах ошибки прятались\n",
      "10 физических фактов, которые вы должны были узнать в школе, но, возможно, не узнали\n",
      "Бэкендеры всех стран объединились. Рассказываем, как прошел Backend United #2\n",
      "Автор книги «Ведьмак» потребовал у CD Projekt Red минимум $16 млн\n",
      "Алиса поможет разработчикам найти объекты в запросах пользователей. NER в Диалогах\n",
      "Так ли хороши джуны?\n",
      "Видео докладов с Deerploy DevOps MeetUp\n",
      "Люди-батарейки: теоретический анализ наногенераторов на базе трибоэлектрического эффекта\n",
      "Конкурс, новые курсы и фичи (осенние новости Хекслета)\n",
      "Обновление до Windows 1809 (иногда) уничтожает все файлы в профиле\n",
      "Как добавить остроты лезвию с помощью плазменной дуги?\n"
     ]
    }
   ],
   "source": [
    "new_titles = []\n",
    "regTag = re.compile('<.*?>', re.DOTALL)\n",
    "regSpace = re.compile('\\s{2,}', re.DOTALL)\n",
    "for t in titles:\n",
    "    clean_t = regSpace.sub(\"\", t)\n",
    "    clean_t = regTag.sub(\"\", clean_t)\n",
    "    new_titles.append(clean_t)\n",
    "for t in new_titles:\n",
    "    print(t)"
   ]
  },
  {
   "cell_type": "markdown",
   "metadata": {},
   "source": [
    "Now let's replace html-sequences nbsp and rarr with an arrow:"
   ]
  },
  {
   "cell_type": "code",
   "execution_count": 16,
   "metadata": {},
   "outputs": [
    {
     "name": "stdout",
     "output_type": "stream",
     "text": [
      "Интерпретаторы байт-кодов своими руками\n",
      "Как сделать самому Луноход\n",
      "Китайцы использовали микрочип, чтобы контролировать американские компьютеры\n",
      "286 и сеть\n",
      "Scrum is dead\n",
      "КТРУ (Каталог товаров, работ, услуг) или смерть IT госзакупкам\n",
      "Firecore — нескучная игра на AVR\n",
      "Измерение времени с наносекундной точностью\n",
      "Что такое ZFS? И почему люди от неё без ума?\n",
      "﻿Perl 5: как в макросах ошибки прятались\n",
      "10 физических фактов, которые вы должны были узнать в школе, но, возможно, не узнали\n",
      "Бэкендеры всех стран объединились. Рассказываем, как прошел Backend United #2\n",
      "Автор книги «Ведьмак» потребовал у CD Projekt Red минимум $16 млн\n",
      "Алиса поможет разработчикам найти объекты в запросах пользователей. NER в Диалогах\n",
      "Так ли хороши джуны?\n",
      "Видео докладов с Deerploy DevOps MeetUp\n",
      "Люди-батарейки: теоретический анализ наногенераторов на базе трибоэлектрического эффекта\n",
      "Конкурс, новые курсы и фичи (осенние новости Хекслета)\n",
      "Обновление до Windows 1809 (иногда) уничтожает все файлы в профиле\n",
      "Как добавить остроты лезвию с помощью плазменной дуги?\n"
     ]
    }
   ],
   "source": [
    "for t in new_titles:\n",
    "    print(t.replace(\"&nbsp;&rarr;\", \" -> \"))"
   ]
  },
  {
   "cell_type": "markdown",
   "metadata": {},
   "source": [
    "+ What does `re.compile` do?\n",
    "\n",
    "Roughly speaking, `compile()` let's us compile the regular expression (turn a regular expression string into a special object) and use it multiple times. `re.search(..., ...)` first compiles the regular expression and then searches for the matching sequences -- great if we search just once. "
   ]
  },
  {
   "cell_type": "code",
   "execution_count": null,
   "metadata": {},
   "outputs": [],
   "source": [
    "text = 'our text'\n",
    "regName = re.compile('our regular expression') # compiling our regular expression\n",
    "toSearch = regName.search(text) \n",
    "toFindAll = regName.findall(text)  \n",
    "toSub = regName.sub('replacement', text) "
   ]
  },
  {
   "cell_type": "markdown",
   "metadata": {},
   "source": [
    "+ What does `regName.sub(..., ...)` do?\n",
    "\n",
    "`regName.sub('replacement', text)` means: take the compiled regular expression from the `regName` variable, and replace everything that corresponds to this regular expression in the variable `text` with 'replacement'. "
   ]
  },
  {
   "cell_type": "markdown",
   "metadata": {},
   "source": [
    "+ What is `re.DOTALL`?\n",
    "\n",
    "A dot in a regular expression means any symbol except for the new line symbol.  By adding `flags = re.DOTALL` we ensure that the dot will mean any symbol including the new line symbol."
   ]
  }
 ],
 "metadata": {
  "kernelspec": {
   "display_name": "Python 3",
   "language": "python",
   "name": "python3"
  },
  "language_info": {
   "codemirror_mode": {
    "name": "ipython",
    "version": 3
   },
   "file_extension": ".py",
   "mimetype": "text/x-python",
   "name": "python",
   "nbconvert_exporter": "python",
   "pygments_lexer": "ipython3",
   "version": "3.6.5"
  }
 },
 "nbformat": 4,
 "nbformat_minor": 2
}
